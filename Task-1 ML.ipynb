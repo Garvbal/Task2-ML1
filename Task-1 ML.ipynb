{
 "cells": [
  {
   "cell_type": "code",
   "execution_count": 1,
   "metadata": {},
   "outputs": [],
   "source": [
    "import requests as res\n",
    "from bs4 import BeautifulSoup as bs\n",
    "URL = 'https://www.crummy.com/software/BeautifulSoup/bs4/doc/'\n",
    "page = res.get(URL)\n",
    "soup = bs(page.text, 'html.parser')"
   ]
  }
 ],
 "metadata": {
  "kernelspec": {
   "display_name": "Python 3.9.12 ('base')",
   "language": "python",
   "name": "python3"
  },
  "language_info": {
   "codemirror_mode": {
    "name": "ipython",
    "version": 3
   },
   "file_extension": ".py",
   "mimetype": "text/x-python",
   "name": "python",
   "nbconvert_exporter": "python",
   "pygments_lexer": "ipython3",
   "version": "3.9.12"
  },
  "orig_nbformat": 4,
  "vscode": {
   "interpreter": {
    "hash": "8f7700b413a45cc1dc366e126ff4c8a02d130db27c9b37538162311712feeb5d"
   }
  }
 },
 "nbformat": 4,
 "nbformat_minor": 2
}
